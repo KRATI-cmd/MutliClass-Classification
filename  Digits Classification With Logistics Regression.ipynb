{
 "cells": [
  {
   "cell_type": "code",
   "execution_count": 1,
   "id": "a86cfca8",
   "metadata": {},
   "outputs": [],
   "source": [
    "%matplotlib inline\n",
    "import matplotlib.pyplot as plt\n",
    "\n",
    "from sklearn.datasets import load_digits\n",
    "digits = load_digits()"
   ]
  },
  {
   "cell_type": "code",
   "execution_count": 2,
   "id": "85566897",
   "metadata": {},
   "outputs": [
    {
     "data": {
      "text/plain": [
       "array([[ 0.,  0.,  5., 13.,  9.,  1.,  0.,  0.],\n",
       "       [ 0.,  0., 13., 15., 10., 15.,  5.,  0.],\n",
       "       [ 0.,  3., 15.,  2.,  0., 11.,  8.,  0.],\n",
       "       [ 0.,  4., 12.,  0.,  0.,  8.,  8.,  0.],\n",
       "       [ 0.,  5.,  8.,  0.,  0.,  9.,  8.,  0.],\n",
       "       [ 0.,  4., 11.,  0.,  1., 12.,  7.,  0.],\n",
       "       [ 0.,  2., 14.,  5., 10., 12.,  0.,  0.],\n",
       "       [ 0.,  0.,  6., 13., 10.,  0.,  0.,  0.]])"
      ]
     },
     "execution_count": 2,
     "metadata": {},
     "output_type": "execute_result"
    }
   ],
   "source": [
    "digits.images[0]"
   ]
  },
  {
   "cell_type": "code",
   "execution_count": 3,
   "id": "fb121aaf",
   "metadata": {},
   "outputs": [
    {
     "data": {
      "text/plain": [
       "<Figure size 432x288 with 0 Axes>"
      ]
     },
     "metadata": {},
     "output_type": "display_data"
    },
    {
     "data": {
      "image/png": "[encoded data removed]",
      "text/plain": [
       "<Figure size 288x288 with 1 Axes>"
      ]
     },
     "metadata": {
      "needs_background": "light"
     },
     "output_type": "display_data"
    },
    {
     "data": {
      "image/png": "[encoded data removed]",
      "text/plain": [
       "<Figure size 288x288 with 1 Axes>"
      ]
     },
     "metadata": {
      "needs_background": "light"
     },
     "output_type": "display_data"
    },
    {
     "data": {
      "image/png": "[encoded data removed]",
      "text/plain": [
       "<Figure size 288x288 with 1 Axes>"
      ]
     },
     "metadata": {
      "needs_background": "light"
     },
     "output_type": "display_data"
    },
    {
     "data": {
      "image/png": "[encoded data removed]",
      "text/plain": [
       "<Figure size 288x288 with 1 Axes>"
      ]
     },
     "metadata": {
      "needs_background": "light"
     },
     "output_type": "display_data"
    },
    {
     "data": {
      "image/png": "[encoded data removed]",
      "text/plain": [
       "<Figure size 288x288 with 1 Axes>"
      ]
     },
     "metadata": {
      "needs_background": "light"
     },
     "output_type": "display_data"
    }
   ],
   "source": [
    "plt.gray()\n",
    "for i in range(5):\n",
    "    plt.matshow(digits.images[i])"
   ]
  },
  {
   "cell_type": "code",
   "execution_count": 4,
   "id": "c7e32b38",
   "metadata": {},
   "outputs": [
    {
     "data": {
      "text/plain": [
       "array([0, 1, 2, 3, 4])"
      ]
     },
     "execution_count": 4,
     "metadata": {},
     "output_type": "execute_result"
    }
   ],
   "source": [
    "digits.target[:5]"
   ]
  },
  {
   "cell_type": "code",
   "execution_count": 5,
   "id": "2abecb32",
   "metadata": {},
   "outputs": [],
   "source": [
    "from sklearn.linear_model import LogisticRegression\n",
    "model = LogisticRegression()"
   ]
  },
  {
   "cell_type": "code",
   "execution_count": 6,
   "id": "1a21b735",
   "metadata": {},
   "outputs": [],
   "source": [
    "from sklearn.model_selection import train_test_split\n",
    "X_train,X_test,y_train,y_test = train_test_split(digits.data,digits.target,test_size=0.2)"
   ]
  },
  {
   "cell_type": "code",
   "execution_count": 7,
   "id": "f7929646",
   "metadata": {},
   "outputs": [
    {
     "data": {
      "text/plain": [
       "1437"
      ]
     },
     "execution_count": 7,
     "metadata": {},
     "output_type": "execute_result"
    }
   ],
   "source": [
    "len(X_train)"
   ]
  },
  {
   "cell_type": "code",
   "execution_count": 8,
   "id": "bac4403d",
   "metadata": {},
   "outputs": [
    {
     "data": {
      "text/plain": [
       "360"
      ]
     },
     "execution_count": 8,
     "metadata": {},
     "output_type": "execute_result"
    }
   ],
   "source": [
    "len(X_test)"
   ]
  },
  {
   "cell_type": "code",
   "execution_count": 9,
   "id": "9de50107",
   "metadata": {},
   "outputs": [
    {
     "data": {
      "text/plain": [
       "1797"
      ]
     },
     "execution_count": 9,
     "metadata": {},
     "output_type": "execute_result"
    }
   ],
   "source": [
    "len(digits.data)"
   ]
  },
  {
   "cell_type": "code",
   "execution_count": 10,
   "id": "805f9c42",
   "metadata": {},
   "outputs": [
    {
     "name": "stderr",
     "output_type": "stream",
     "text": [
      "D:\\CERtificates\\Anaconda3\\lib\\site-packages\\sklearn\\linear_model\\_logistic.py:763: ConvergenceWarning: lbfgs failed to converge (status=1):\n",
      "STOP: TOTAL NO. of ITERATIONS REACHED LIMIT.\n",
      "\n",
      "Increase the number of iterations (max_iter) or scale the data as shown in:\n",
      "    https://scikit-learn.org/stable/modules/preprocessing.html\n",
      "Please also refer to the documentation for alternative solver options:\n",
      "    https://scikit-learn.org/stable/modules/linear_model.html#logistic-regression\n",
      "  n_iter_i = _check_optimize_result(\n"
     ]
    },
    {
     "data": {
      "text/plain": [
       "LogisticRegression()"
      ]
     },
     "execution_count": 10,
     "metadata": {},
     "output_type": "execute_result"
    }
   ],
   "source": [
    "model.fit(X_train,y_train)"
   ]
  },
  {
   "cell_type": "code",
   "execution_count": 11,
   "id": "9e739980",
   "metadata": {},
   "outputs": [
    {
     "data": {
      "text/plain": [
       "array([2, 7, 6, 0, 4, 9, 9, 5, 7, 8, 4, 9, 9, 3, 0, 0, 8, 7, 7, 8, 8, 9,\n",
       "       3, 8, 9, 2, 2, 6, 1, 4, 6, 9, 4, 2, 8, 0, 2, 4, 4, 5, 6, 8, 2, 4,\n",
       "       7, 7, 5, 6, 2, 8, 3, 6, 1, 8, 4, 8, 6, 4, 4, 5, 0, 1, 4, 7, 5, 1,\n",
       "       1, 4, 1, 7, 0, 1, 0, 5, 2, 4, 7, 0, 2, 0, 7, 8, 9, 3, 6, 8, 6, 3,\n",
       "       1, 1, 7, 6, 7, 5, 7, 4, 6, 7, 0, 8, 9, 8, 9, 0, 4, 9, 3, 0, 5, 2,\n",
       "       2, 4, 6, 5, 5, 0, 0, 6, 9, 1, 5, 5, 4, 4, 1, 0, 0, 3, 8, 7, 8, 2,\n",
       "       1, 6, 7, 9, 9, 8, 9, 3, 6, 7, 5, 6, 1, 8, 3, 9, 7, 6, 2, 9, 2, 5,\n",
       "       9, 0, 9, 7, 3, 2, 1, 6, 0, 0, 6, 1, 0, 1, 8, 5, 5, 5, 5, 1, 3, 9,\n",
       "       0, 2, 4, 6, 0, 4, 9, 5, 6, 5, 4, 4, 3, 7, 7, 0, 7, 4, 9, 8, 6, 2,\n",
       "       2, 9, 1, 8, 1, 5, 3, 7, 4, 8, 2, 9, 4, 0, 6, 5, 7, 1, 1, 2, 1, 1,\n",
       "       1, 3, 3, 7, 2, 1, 5, 3, 9, 0, 6, 4, 6, 8, 4, 0, 0, 3, 3, 8, 9, 6,\n",
       "       9, 0, 1, 1, 9, 8, 3, 3, 6, 6, 8, 9, 2, 1, 8, 9, 5, 7, 1, 7, 2, 3,\n",
       "       6, 0, 7, 0, 9, 8, 5, 0, 2, 5, 7, 6, 1, 9, 9, 9, 1, 9, 9, 0, 3, 1,\n",
       "       8, 5, 0, 5, 7, 6, 2, 3, 2, 4, 4, 0, 5, 5, 4, 1, 9, 8, 8, 0, 4, 1,\n",
       "       5, 3, 7, 2, 0, 7, 3, 2, 6, 6, 9, 3, 5, 2, 5, 9, 6, 3, 2, 7, 1, 3,\n",
       "       5, 0, 2, 6, 6, 7, 9, 9, 5, 7, 3, 7, 3, 4, 2, 5, 8, 4, 1, 8, 9, 0,\n",
       "       2, 5, 4, 4, 2, 4, 4, 1])"
      ]
     },
     "execution_count": 11,
     "metadata": {},
     "output_type": "execute_result"
    }
   ],
   "source": [
    "model.predict(X_test)"
   ]
  },
  {
   "cell_type": "code",
   "execution_count": 12,
   "id": "69df0bcd",
   "metadata": {},
   "outputs": [
    {
     "data": {
      "text/plain": [
       "array([2, 7, 6, 0, 4, 9, 9, 5, 7, 8, 4, 9, 9, 3, 0, 0, 8, 7, 7, 8, 1, 9,\n",
       "       3, 8, 9, 2, 2, 6, 1, 4, 6, 9, 4, 2, 8, 0, 2, 4, 4, 5, 6, 8, 2, 4,\n",
       "       7, 7, 5, 6, 2, 8, 3, 6, 1, 8, 4, 8, 6, 4, 4, 5, 0, 1, 4, 7, 5, 1,\n",
       "       1, 4, 5, 7, 0, 6, 0, 5, 2, 4, 7, 0, 2, 0, 7, 8, 9, 3, 6, 8, 6, 3,\n",
       "       1, 1, 7, 6, 7, 5, 7, 4, 6, 7, 0, 8, 9, 8, 9, 0, 4, 9, 3, 0, 5, 2,\n",
       "       2, 4, 6, 5, 5, 0, 0, 6, 9, 1, 5, 5, 4, 4, 8, 0, 0, 3, 8, 3, 8, 2,\n",
       "       1, 6, 7, 9, 9, 8, 9, 3, 6, 7, 5, 6, 1, 8, 3, 9, 7, 6, 2, 9, 2, 5,\n",
       "       9, 0, 9, 7, 3, 2, 1, 6, 0, 0, 6, 1, 0, 1, 8, 5, 5, 5, 5, 1, 3, 9,\n",
       "       0, 2, 4, 6, 0, 4, 9, 5, 6, 5, 4, 4, 3, 7, 7, 0, 7, 4, 9, 8, 6, 2,\n",
       "       2, 9, 1, 8, 1, 5, 3, 7, 4, 8, 2, 9, 4, 0, 6, 5, 7, 1, 1, 2, 1, 1,\n",
       "       1, 3, 3, 7, 2, 1, 5, 3, 9, 0, 6, 4, 6, 8, 4, 0, 0, 3, 3, 8, 7, 6,\n",
       "       9, 0, 1, 1, 9, 8, 3, 3, 6, 6, 8, 9, 2, 1, 8, 9, 5, 7, 1, 7, 2, 3,\n",
       "       6, 0, 7, 0, 9, 8, 5, 0, 2, 5, 7, 6, 1, 9, 9, 9, 1, 9, 9, 0, 3, 1,\n",
       "       8, 5, 0, 5, 7, 6, 2, 3, 2, 4, 4, 0, 5, 5, 4, 1, 9, 9, 8, 0, 4, 1,\n",
       "       5, 3, 7, 2, 0, 7, 3, 2, 6, 6, 9, 3, 5, 2, 5, 9, 6, 3, 2, 7, 1, 3,\n",
       "       5, 0, 2, 6, 6, 7, 9, 9, 5, 7, 3, 7, 3, 4, 2, 5, 8, 4, 1, 8, 9, 0,\n",
       "       2, 5, 4, 4, 2, 8, 4, 8])"
      ]
     },
     "execution_count": 12,
     "metadata": {},
     "output_type": "execute_result"
    }
   ],
   "source": [
    "y_test"
   ]
  },
  {
   "cell_type": "code",
   "execution_count": 13,
   "id": "77144a40",
   "metadata": {},
   "outputs": [
    {
     "data": {
      "text/plain": [
       "0.975"
      ]
     },
     "execution_count": 13,
     "metadata": {},
     "output_type": "execute_result"
    }
   ],
   "source": [
    "model.score(X_test,y_test)"
   ]
  },
  {
   "cell_type": "code",
   "execution_count": 14,
   "id": "feb2d617",
   "metadata": {},
   "outputs": [],
   "source": [
    "y_predicted = model.predict(X_test)"
   ]
  },
  {
   "cell_type": "code",
   "execution_count": 15,
   "id": "3c3fd79e",
   "metadata": {},
   "outputs": [
    {
     "data": {
      "text/plain": [
       "array([[38,  0,  0,  0,  0,  0,  0,  0,  0,  0],\n",
       "       [ 0, 33,  0,  0,  0,  0,  0,  0,  1,  0],\n",
       "       [ 0,  0, 34,  0,  0,  0,  0,  0,  0,  0],\n",
       "       [ 0,  0,  0, 30,  0,  0,  0,  1,  0,  0],\n",
       "       [ 0,  0,  0,  0, 36,  0,  0,  0,  0,  0],\n",
       "       [ 0,  1,  0,  0,  0, 37,  0,  0,  0,  0],\n",
       "       [ 0,  1,  0,  0,  0,  0, 36,  0,  0,  0],\n",
       "       [ 0,  0,  0,  0,  0,  0,  0, 35,  0,  1],\n",
       "       [ 0,  2,  0,  0,  1,  0,  0,  0, 31,  0],\n",
       "       [ 0,  0,  0,  0,  0,  0,  0,  0,  1, 41]], dtype=int64)"
      ]
     },
     "execution_count": 15,
     "metadata": {},
     "output_type": "execute_result"
    }
   ],
   "source": [
    "from sklearn.metrics import confusion_matrix\n",
    "cm =confusion_matrix(y_test,y_predicted)\n",
    "cm"
   ]
  },
  {
   "cell_type": "code",
   "execution_count": 17,
   "id": "9bc47cea",
   "metadata": {},
   "outputs": [
    {
     "data": {
      "text/plain": [
       "Text(69.0, 0.5, 'Truth')"
      ]
     },
     "execution_count": 17,
     "metadata": {},
     "output_type": "execute_result"
    },
    {
     "data": {
      "image/png": "[encoded data removed]",
      "text/plain": [
       "<Figure size 720x504 with 2 Axes>"
      ]
     },
     "metadata": {
      "needs_background": "light"
     },
     "output_type": "display_data"
    }
   ],
   "source": [
    "import seaborn as sn\n",
    "plt.figure(figsize=(10,7))\n",
    "sn.heatmap(cm,annot = True)\n",
    "plt.xlabel('Predicted')\n",
    "plt.ylabel('Truth')"
   ]
  },
  {
   "cell_type": "code",
   "execution_count": null,
   "id": "1f42b9a5",
   "metadata": {},
   "outputs": [],
   "source": []
  }
 ],
 "metadata": {
  "kernelspec": {
   "display_name": "Python 3",
   "language": "python",
   "name": "python3"
  },
  "language_info": {
   "codemirror_mode": {
    "name": "ipython",
    "version": 3
   },
   "file_extension": ".py",
   "mimetype": "text/x-python",
   "name": "python",
   "nbconvert_exporter": "python",
   "pygments_lexer": "ipython3",
   "version": "3.8.8"
  }
 },
 "nbformat": 4,
 "nbformat_minor": 5
}
